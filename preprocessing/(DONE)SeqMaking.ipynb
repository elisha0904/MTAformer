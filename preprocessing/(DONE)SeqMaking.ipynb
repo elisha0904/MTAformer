{
 "cells": [
  {
   "cell_type": "code",
   "execution_count": 4,
   "metadata": {},
   "outputs": [],
   "source": [
    "import pandas as pd"
   ]
  },
  {
   "cell_type": "code",
   "execution_count": 5,
   "metadata": {},
   "outputs": [],
   "source": [
    "campaign_valid_ids = pd.read_csv('done/sample_experiment/valid_samples_10000.csv')\n",
    "target = pd.read_csv('done/target_whole.csv',index_col=0)\n",
    "user = pd.read_csv('preprocessing/user_ppd_0508.csv',index_col = 0)"
   ]
  },
  {
   "cell_type": "code",
   "execution_count": 6,
   "metadata": {},
   "outputs": [],
   "source": [
    "campaign_valid_ids = campaign_valid_ids['0'].to_list()"
   ]
  },
  {
   "cell_type": "code",
   "execution_count": 7,
   "metadata": {},
   "outputs": [],
   "source": [
    "# valid filter 된 campaign_valid_ids 를 기준으로 user segment 와 target log filtering\n",
    "\n",
    "sampled_user = user[user['userid'].isin(campaign_valid_ids)]\n",
    "target = target[target['user'].isin(campaign_valid_ids)]"
   ]
  },
  {
   "cell_type": "code",
   "execution_count": 8,
   "metadata": {},
   "outputs": [],
   "source": [
    "# # 코드 이후에 segment 뽑기 \n",
    "# train_ = pd.read_csv('done/to_pang10_2/price.csv')\n",
    "# test_ = pd.read_csv('done/to_pang10_2/price_t.csv')\n",
    "# train_segment = sampled_user[sampled_user['user_id'].isin(train_.user_id.to_list())]\n",
    "# test_segment = sampled_user[sampled_user['user_id'].isin(test_.user_id.to_list())]\n",
    "# train_segment.to_csv('done/to_pang10_2/train_seg.csv')\n",
    "# test_segment.to_csv('done/to_pang10_2/test_seg.csv')"
   ]
  },
  {
   "cell_type": "code",
   "execution_count": 9,
   "metadata": {},
   "outputs": [
    {
     "name": "stdout",
     "output_type": "stream",
     "text": [
      "valid IDs num : 115167\n",
      "valid Campaign values num: 9990\n"
     ]
    }
   ],
   "source": [
    "print('valid IDs num :', len(campaign_valid_ids))\n",
    "print('valid Campaign values num:', target.campaign_id.nunique())"
   ]
  },
  {
   "cell_type": "markdown",
   "metadata": {},
   "source": [
    "User dataframe"
   ]
  },
  {
   "cell_type": "code",
   "execution_count": 10,
   "metadata": {},
   "outputs": [
    {
     "name": "stderr",
     "output_type": "stream",
     "text": [
      "/var/folders/3m/c1zxtgn548xdfpfrwzglvk3c0000gn/T/ipykernel_5676/483463035.py:1: SettingWithCopyWarning: \n",
      "A value is trying to be set on a copy of a slice from a DataFrame\n",
      "\n",
      "See the caveats in the documentation: https://pandas.pydata.org/pandas-docs/stable/user_guide/indexing.html#returning-a-view-versus-a-copy\n",
      "  sampled_user.rename(columns = {'userid' : 'user_id'}, inplace = True)\n",
      "/var/folders/3m/c1zxtgn548xdfpfrwzglvk3c0000gn/T/ipykernel_5676/483463035.py:4: SettingWithCopyWarning: \n",
      "A value is trying to be set on a copy of a slice from a DataFrame.\n",
      "Try using .loc[row_indexer,col_indexer] = value instead\n",
      "\n",
      "See the caveats in the documentation: https://pandas.pydata.org/pandas-docs/stable/user_guide/indexing.html#returning-a-view-versus-a-copy\n",
      "  sampled_user['gender'] = sampled_user['gender'] - 1\n",
      "/var/folders/3m/c1zxtgn548xdfpfrwzglvk3c0000gn/T/ipykernel_5676/483463035.py:5: SettingWithCopyWarning: \n",
      "A value is trying to be set on a copy of a slice from a DataFrame.\n",
      "Try using .loc[row_indexer,col_indexer] = value instead\n",
      "\n",
      "See the caveats in the documentation: https://pandas.pydata.org/pandas-docs/stable/user_guide/indexing.html#returning-a-view-versus-a-copy\n",
      "  sampled_user['shopping_level'] = sampled_user['shopping_level']-1\n"
     ]
    }
   ],
   "source": [
    "sampled_user.rename(columns = {'userid' : 'user_id'}, inplace = True)\n",
    "\n",
    "# Encode \n",
    "sampled_user['gender'] = sampled_user['gender'] - 1 \n",
    "sampled_user['shopping_level'] = sampled_user['shopping_level']-1 "
   ]
  },
  {
   "cell_type": "code",
   "execution_count": 11,
   "metadata": {},
   "outputs": [
    {
     "name": "stderr",
     "output_type": "stream",
     "text": [
      "/var/folders/3m/c1zxtgn548xdfpfrwzglvk3c0000gn/T/ipykernel_5676/3858261494.py:8: SettingWithCopyWarning: \n",
      "A value is trying to be set on a copy of a slice from a DataFrame.\n",
      "Try using .loc[row_indexer,col_indexer] = value instead\n",
      "\n",
      "See the caveats in the documentation: https://pandas.pydata.org/pandas-docs/stable/user_guide/indexing.html#returning-a-view-versus-a-copy\n",
      "  sampled_user['segment'] = user_str['cms_group_id'] + ' ' + user_str['gender'] + ' ' + user_str['age_level'] + ' ' + user_str['pvalue_level'] + ' ' + user_str['shopping_level']\n"
     ]
    }
   ],
   "source": [
    "user_str = sampled_user.copy()\n",
    "user_str ['gender'] = sampled_user['gender'] + 100 \n",
    "user_str ['age_level'] = sampled_user['age_level'] + 200 \n",
    "user_str ['pvalue_level'] = sampled_user['pvalue_level'] + 300 \n",
    "user_str ['shopping_level'] = sampled_user['shopping_level'] + 400 \n",
    "\n",
    "user_str = user_str.applymap(lambda x: str(x))\n",
    "sampled_user['segment'] = user_str['cms_group_id'] + ' ' + user_str['gender'] + ' ' + user_str['age_level'] + ' ' + user_str['pvalue_level'] + ' ' + user_str['shopping_level']\n"
   ]
  },
  {
   "cell_type": "code",
   "execution_count": 12,
   "metadata": {},
   "outputs": [
    {
     "data": {
      "text/html": [
       "<div>\n",
       "<style scoped>\n",
       "    .dataframe tbody tr th:only-of-type {\n",
       "        vertical-align: middle;\n",
       "    }\n",
       "\n",
       "    .dataframe tbody tr th {\n",
       "        vertical-align: top;\n",
       "    }\n",
       "\n",
       "    .dataframe thead th {\n",
       "        text-align: right;\n",
       "    }\n",
       "</style>\n",
       "<table border=\"1\" class=\"dataframe\">\n",
       "  <thead>\n",
       "    <tr style=\"text-align: right;\">\n",
       "      <th></th>\n",
       "      <th>user_id</th>\n",
       "      <th>cms_group_id</th>\n",
       "      <th>gender</th>\n",
       "      <th>age_level</th>\n",
       "      <th>pvalue_level</th>\n",
       "      <th>shopping_level</th>\n",
       "      <th>segment</th>\n",
       "    </tr>\n",
       "  </thead>\n",
       "  <tbody>\n",
       "    <tr>\n",
       "      <th>3</th>\n",
       "      <td>1670</td>\n",
       "      <td>4</td>\n",
       "      <td>1</td>\n",
       "      <td>4</td>\n",
       "      <td>0.0</td>\n",
       "      <td>0</td>\n",
       "      <td>4 101 204 300.0 400</td>\n",
       "    </tr>\n",
       "    <tr>\n",
       "      <th>4</th>\n",
       "      <td>2545</td>\n",
       "      <td>10</td>\n",
       "      <td>0</td>\n",
       "      <td>4</td>\n",
       "      <td>0.0</td>\n",
       "      <td>2</td>\n",
       "      <td>10 100 204 300.0 402</td>\n",
       "    </tr>\n",
       "    <tr>\n",
       "      <th>8</th>\n",
       "      <td>6355</td>\n",
       "      <td>1</td>\n",
       "      <td>1</td>\n",
       "      <td>1</td>\n",
       "      <td>1.0</td>\n",
       "      <td>2</td>\n",
       "      <td>1 101 201 301.0 402</td>\n",
       "    </tr>\n",
       "    <tr>\n",
       "      <th>26</th>\n",
       "      <td>12873</td>\n",
       "      <td>5</td>\n",
       "      <td>1</td>\n",
       "      <td>5</td>\n",
       "      <td>0.0</td>\n",
       "      <td>2</td>\n",
       "      <td>5 101 205 300.0 402</td>\n",
       "    </tr>\n",
       "    <tr>\n",
       "      <th>33</th>\n",
       "      <td>15455</td>\n",
       "      <td>2</td>\n",
       "      <td>1</td>\n",
       "      <td>2</td>\n",
       "      <td>2.0</td>\n",
       "      <td>2</td>\n",
       "      <td>2 101 202 302.0 402</td>\n",
       "    </tr>\n",
       "  </tbody>\n",
       "</table>\n",
       "</div>"
      ],
      "text/plain": [
       "    user_id  cms_group_id  gender  age_level  pvalue_level  shopping_level  \\\n",
       "3      1670             4       1          4           0.0               0   \n",
       "4      2545            10       0          4           0.0               2   \n",
       "8      6355             1       1          1           1.0               2   \n",
       "26    12873             5       1          5           0.0               2   \n",
       "33    15455             2       1          2           2.0               2   \n",
       "\n",
       "                 segment  \n",
       "3    4 101 204 300.0 400  \n",
       "4   10 100 204 300.0 402  \n",
       "8    1 101 201 301.0 402  \n",
       "26   5 101 205 300.0 402  \n",
       "33   2 101 202 302.0 402  "
      ]
     },
     "execution_count": 12,
     "metadata": {},
     "output_type": "execute_result"
    }
   ],
   "source": [
    "sampled_user.head()"
   ]
  },
  {
   "cell_type": "markdown",
   "metadata": {},
   "source": [
    "## Train_test_spliting \n",
    "- Whole IDs count : 115167\n",
    "- Train : 100000\n",
    "- Test : 15167"
   ]
  },
  {
   "cell_type": "code",
   "execution_count": 13,
   "metadata": {},
   "outputs": [
    {
     "data": {
      "text/plain": [
       "115167"
      ]
     },
     "execution_count": 13,
     "metadata": {},
     "output_type": "execute_result"
    }
   ],
   "source": [
    "len(campaign_valid_ids)"
   ]
  },
  {
   "cell_type": "code",
   "execution_count": 14,
   "metadata": {},
   "outputs": [
    {
     "name": "stdout",
     "output_type": "stream",
     "text": [
      "Test IDs : 15167\n",
      "Train IDs : 100000\n"
     ]
    }
   ],
   "source": [
    "import random \n",
    "\n",
    "# 1811개의 랜덤 요소를 test_ids 리스트에 넣기\n",
    "test_ids = campaign_valid_ids[:15167]\n",
    "\n",
    "# 나머지 20000개의 요소를 train_ids 리스트에 넣기\n",
    "train_ids = campaign_valid_ids[15167:]\n",
    "\n",
    "# 결과 출력\n",
    "print(f\"Test IDs : {len(test_ids)}\")\n",
    "print(f\"Train IDs : {len(train_ids)}\")"
   ]
  },
  {
   "cell_type": "code",
   "execution_count": 15,
   "metadata": {},
   "outputs": [],
   "source": [
    "# id 를 기준으로 target 과 user 나누기 \n",
    "\n",
    "train_user = sampled_user[sampled_user['user_id'].isin(train_ids)]\n",
    "train_target = target[target['user'].isin(train_ids)]\n",
    "\n",
    "test_user = sampled_user[sampled_user['user_id'].isin(test_ids)]\n",
    "test_target = target[target['user'].isin(test_ids)]"
   ]
  },
  {
   "cell_type": "markdown",
   "metadata": {},
   "source": [
    "## Making Sequence"
   ]
  },
  {
   "cell_type": "code",
   "execution_count": 13,
   "metadata": {},
   "outputs": [],
   "source": [
    "# sequential 이 담길 DataFrame 생성\n",
    "# 이하 sequence_df 에 넣기 \n",
    "\n",
    "# cate_id = pd.DataFrame(columns=['user_id', 'num_user', 'seq_space_sep', 'label'])\n",
    "# campaign_id = pd.DataFrame(columns=['user_id', 'num_user', 'seq_space_sep', 'label'])\n",
    "# price = pd.DataFrame(columns=['user_id', 'num_user', 'seq_space_sep', 'label'])\n",
    "\n",
    "# cate_t = pd.DataFrame(columns=['user_id', 'num_user', 'seq_space_sep', 'label'])\n",
    "# campaign_t = pd.DataFrame(columns=['user_id', 'num_user', 'seq_space_sep', 'label'])\n",
    "# price_t = pd.DataFrame(columns=['user_id', 'num_user', 'seq_space_sep', 'label'])"
   ]
  },
  {
   "cell_type": "code",
   "execution_count": 16,
   "metadata": {},
   "outputs": [],
   "source": [
    "def sequence(target_df, target_column):\n",
    "    prev_user = None\n",
    "    num_user = 0\n",
    "    seq = ''\n",
    "    label = None\n",
    "\n",
    "    target_ = target_df[['user', target_column, 'from_purchase']]\n",
    "    sequence_df = pd.DataFrame(columns=['user_id', 'num_user', 'seq_space_sep', 'label'])\n",
    "\n",
    "    for i, j in target_.iterrows():\n",
    "        current_user = j['user']\n",
    "        \n",
    "        # 현재 사용자와 이전 사용자가 다를 경우\n",
    "        if current_user != prev_user:\n",
    "            if label == 0 and prev_user is not None:\n",
    "                sequence_df = pd.concat([sequence_df, pd.DataFrame([{'user_id': prev_user, 'num_user': num_user, 'seq_space_sep': seq, 'label': label}])], ignore_index=True)\n",
    "            # 초기화 및 user 재설정 \n",
    "            prev_user = current_user\n",
    "            seq = ''\n",
    "            num_user = 0\n",
    "            \n",
    "        # from_purchase가 1이면 label을 1로 설정하고 test_seq에 추가\n",
    "        if j['from_purchase'] == 1:\n",
    "            label = j['from_purchase']\n",
    "            sequence_df = pd.concat([sequence_df, pd.DataFrame([{'user_id': current_user, 'num_user': num_user, 'seq_space_sep': seq, 'label': label}])], ignore_index=True)\n",
    "            seq = ''\n",
    "            num_user += 1\n",
    "        else:\n",
    "            label = j['from_purchase']\n",
    "            seq += str(j[target_column]) + ' '\n",
    "        \n",
    "    # 마지막 사용자에 대한 데이터 추가\n",
    "    if prev_user is not None:\n",
    "        sequence_df = pd.concat([sequence_df, pd.DataFrame([{'user_id': current_user, 'num_user': num_user, 'seq_space_sep': seq, 'label': label}])], ignore_index=True)\n",
    "    \n",
    "    return sequence_df\n"
   ]
  },
  {
   "cell_type": "markdown",
   "metadata": {},
   "source": [
    "## CATE ID "
   ]
  },
  {
   "cell_type": "code",
   "execution_count": 19,
   "metadata": {},
   "outputs": [],
   "source": [
    "# train \n",
    "cate_id = sequence(train_target,'cate_id')\n",
    "\n",
    "# test\n",
    "cate_t = sequence(test_target,'cate_id')"
   ]
  },
  {
   "cell_type": "markdown",
   "metadata": {},
   "source": [
    "# CAMPAIGN ID "
   ]
  },
  {
   "cell_type": "code",
   "execution_count": 24,
   "metadata": {},
   "outputs": [],
   "source": [
    "# train \n",
    "campaign_id = sequence(train_target,'campaign_id')\n",
    "\n",
    "# test\n",
    "campaign_t = sequence(test_target,'campaign_id')"
   ]
  },
  {
   "cell_type": "markdown",
   "metadata": {},
   "source": [
    "# PRICE SEQ"
   ]
  },
  {
   "cell_type": "code",
   "execution_count": 25,
   "metadata": {},
   "outputs": [],
   "source": [
    "# train \n",
    "price = sequence(train_target,'price')\n",
    "\n",
    "# test\n",
    "price_t = sequence(test_target,'price')"
   ]
  },
  {
   "cell_type": "markdown",
   "metadata": {},
   "source": [
    "check & SAVE"
   ]
  },
  {
   "cell_type": "code",
   "execution_count": 33,
   "metadata": {},
   "outputs": [],
   "source": [
    "cate_id =cate_id[cate_id['seq_space_sep'] != \"\"]\n",
    "cate_t = cate_t[cate_t['seq_space_sep'] != \"\"]\n",
    "campaign_id =campaign_id[campaign_id['seq_space_sep'] != \"\"]\n",
    "campaign_t = campaign_t[campaign_t['seq_space_sep'] != \"\"]\n",
    "price = price[price['seq_space_sep'] != \"\"]\n",
    "price_t = price_t[price_t['seq_space_sep'] != \"\"]"
   ]
  },
  {
   "cell_type": "code",
   "execution_count": 34,
   "metadata": {},
   "outputs": [
    {
     "name": "stdout",
     "output_type": "stream",
     "text": [
      "train shape:  (110710, 4) (110710, 4) (110710, 4)\n",
      "test shape:  (16819, 4) (16819, 4) (16819, 4)\n"
     ]
    }
   ],
   "source": [
    "print('train shape: ',cate_id.shape,campaign_id.shape,price.shape)\n",
    "print('test shape: ',cate_t.shape,campaign_t.shape,price_t.shape)"
   ]
  },
  {
   "cell_type": "code",
   "execution_count": 38,
   "metadata": {},
   "outputs": [],
   "source": [
    "cate_id.to_csv('done/to_pang10_3/cate_train.csv')\n",
    "cate_t.to_csv('done/to_pang10_3/cate_test.csv')\n",
    "campaign_id.to_csv('done/to_pang10_3/camp_train.csv')\n",
    "campaign_t.to_csv('done/to_pang10_3/camp_test.csv')\n",
    "price.to_csv('done/to_pang10_3/price_train.csv')\n",
    "price_t.to_csv('done/to_pang10_3/price_test.csv')"
   ]
  },
  {
   "cell_type": "code",
   "execution_count": 36,
   "metadata": {},
   "outputs": [],
   "source": [
    "# 코드 이후에 segment 뽑기 \n",
    "train_user = cate_id.user_id.to_list()\n",
    "test_user = cate_t.user_id.to_list()\n",
    "\n",
    "\n",
    "train_segment = sampled_user[sampled_user['user_id'].isin(train_user)]\n",
    "test_segment = sampled_user[sampled_user['user_id'].isin(test_user)]\n",
    "train_segment.to_csv('done/to_pang10_3/train_seg.csv')\n",
    "test_segment.to_csv('done/to_pang10_3/test_seg.csv')"
   ]
  },
  {
   "cell_type": "code",
   "execution_count": 40,
   "metadata": {},
   "outputs": [
    {
     "data": {
      "text/plain": [
       "0.0    0.568323\n",
       "1.0    0.431677\n",
       "Name: label, dtype: float64"
      ]
     },
     "execution_count": 40,
     "metadata": {},
     "output_type": "execute_result"
    }
   ],
   "source": [
    "price.label.value_counts(normalize=True)"
   ]
  },
  {
   "cell_type": "code",
   "execution_count": null,
   "metadata": {},
   "outputs": [],
   "source": []
  }
 ],
 "metadata": {
  "kernelspec": {
   "display_name": "base",
   "language": "python",
   "name": "python3"
  },
  "language_info": {
   "codemirror_mode": {
    "name": "ipython",
    "version": 3
   },
   "file_extension": ".py",
   "mimetype": "text/x-python",
   "name": "python",
   "nbconvert_exporter": "python",
   "pygments_lexer": "ipython3",
   "version": "3.10.9"
  }
 },
 "nbformat": 4,
 "nbformat_minor": 2
}
