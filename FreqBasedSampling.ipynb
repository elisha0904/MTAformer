{
 "cells": [
  {
   "cell_type": "code",
   "execution_count": 6,
   "metadata": {},
   "outputs": [],
   "source": [
    "import pandas as pd\n",
    "import numpy as np"
   ]
  },
  {
   "cell_type": "code",
   "execution_count": 2,
   "metadata": {},
   "outputs": [],
   "source": [
    "target = pd.read_csv('done/target_whole.csv',index_col=0)"
   ]
  },
  {
   "cell_type": "code",
   "execution_count": 22,
   "metadata": {},
   "outputs": [
    {
     "data": {
      "text/plain": [
       "Index(['user', 'time_stamp', 'adgroup_id', 'pid', 'clk', 'seq_len', 'cate_id',\n",
       "       'campaign_id', 'customer', 'brand', 'price', 'from_purchase', 'cate'],\n",
       "      dtype='object')"
      ]
     },
     "execution_count": 22,
     "metadata": {},
     "output_type": "execute_result"
    }
   ],
   "source": [
    "target.columns"
   ]
  },
  {
   "cell_type": "code",
   "execution_count": 23,
   "metadata": {},
   "outputs": [],
   "source": [
    "df = target[['user','campaign_id','from_purchase']]"
   ]
  },
  {
   "cell_type": "code",
   "execution_count": 24,
   "metadata": {},
   "outputs": [],
   "source": [
    "# Campaign 등장 횟수 집계 함수 (sequence 를 기준으로)\n",
    "# 한 seq 에서 등장 1 , 등장 x 0 으로 집계 \n",
    "\n",
    "def count_campaigns_around_labels(df, label_column='from_purchase', id_column='campaign_id'):\n",
    "    counts = {}\n",
    "    for user, user_df in df.groupby('user'):\n",
    "        label_indices = user_df.index[user_df[label_column] == 1].tolist()\n",
    "        \n",
    "        # Label 1 (== sequence 구분 기준) 인덱스를 기준으로 분할하여 집계\n",
    "        segments = np.split(user_df, [i + 1 for i in label_indices])\n",
    "        \n",
    "        for segment in segments:\n",
    "            unique_ads = segment[id_column].unique()\n",
    "            for ad in unique_ads:\n",
    "                if ad in counts:\n",
    "                    counts[ad] += 1\n",
    "                else:\n",
    "                    counts[ad] = 1\n",
    "    \n",
    "    return counts\n",
    "\n",
    "campaign_counts_around_labels = count_campaigns_around_labels(df)\n",
    "campaign_counts_around_labels_df = pd.DataFrame(list(campaign_counts_around_labels.items()), columns=['campaign_id', 'count'])\n"
   ]
  },
  {
   "cell_type": "code",
   "execution_count": 28,
   "metadata": {},
   "outputs": [],
   "source": [
    "# 구매 자체 row 는 campaign 이 없어서 nan 값으로 나옴 : 제거 \n",
    "campaigns = campaign_counts_around_labels_df.dropna()"
   ]
  },
  {
   "cell_type": "code",
   "execution_count": 31,
   "metadata": {},
   "outputs": [],
   "source": [
    "# 빈도 상위 1천개 뽑아 리스트 화 \n",
    "campaign_valid = campaigns.sort_values(by='count',ascending=False).head(1000)['campaign_id'].to_list()"
   ]
  },
  {
   "cell_type": "markdown",
   "metadata": {},
   "source": [
    "- 상위 1천개 campaign 으로만 이루어진 user ID 몇개 있는지 체크\n",
    "    -  how? : campaign filtering 이전과 이후 각 ID의 Seq_len 가 동일하면됨"
   ]
  },
  {
   "cell_type": "code",
   "execution_count": 71,
   "metadata": {},
   "outputs": [],
   "source": [
    "# seq_before_filtered 정의 \n",
    "# filtering 되지 않은 데이터의 seq len \n",
    "seq_before_filtered = target[target['from_purchase'] == 0].groupby('user')['user'].agg(seq_len = 'count').reset_index()"
   ]
  },
  {
   "cell_type": "code",
   "execution_count": 72,
   "metadata": {},
   "outputs": [],
   "source": [
    "# seq_filtered 정의 \n",
    "\n",
    "# 전체 log 에서 구매 여부 지움 (sequence 를 구성할 때 필요한 노출 Log 만 남김)\n",
    "df_1 =  target[target['from_purchase'] == 0] \n",
    "\n",
    "# 그 중 위에서 정의한 campaign_valid 에 포함되지 않는 노출은 모두 지움 \n",
    "df_2 = df_1[df_1['campaign_id'].isin(campaign_valid)]\n",
    "\n",
    "# 그 후 seq_len 를 측정 \n",
    "seq_filtered = df_2.groupby('user')['user'].agg(seq_len = 'count').reset_index()\n",
    "\n",
    "# 이렇게 하면, valid 한 campaign ID 로만 구성된 user seq 는 seq_len 가 filtering 되기 전후가 똑같을 것\n",
    "# invalid 한 campaign ID 가 존재하면 seq_len 가 줄어들 것 \n",
    "# invalid 한 campaign ID 만 존재하면 해당 user ID 가 모두 사라질 것 "
   ]
  },
  {
   "cell_type": "code",
   "execution_count": 73,
   "metadata": {},
   "outputs": [],
   "source": [
    "# filtering 되지 않은 데이터프레임의 user ID 를 seq_filtered 에 맞추어 필터링 \n",
    "\n",
    "seq_before_filtered = seq_before_filtered[seq_before_filtered['user'].isin(seq_filtered.user.to_list())]"
   ]
  },
  {
   "cell_type": "code",
   "execution_count": 74,
   "metadata": {},
   "outputs": [],
   "source": [
    "seq_before_filtered = seq_before_filtered.reset_index()\n",
    "seq_filtered = seq_filtered.reset_index()"
   ]
  },
  {
   "cell_type": "code",
   "execution_count": 76,
   "metadata": {},
   "outputs": [],
   "source": [
    "seq_before_filtered['filtered_seq_len'] = seq_filtered['seq_len']"
   ]
  },
  {
   "cell_type": "code",
   "execution_count": 81,
   "metadata": {},
   "outputs": [],
   "source": [
    "# 필터링 전후가 똑같은 user 만 list 화 \n",
    "valid_samples = seq_before_filtered[seq_before_filtered['seq_len'] == seq_before_filtered['filtered_seq_len']]['user'].to_list()"
   ]
  },
  {
   "cell_type": "code",
   "execution_count": 84,
   "metadata": {},
   "outputs": [],
   "source": [
    "## save it \n",
    "# pd.DataFrame(valid_samples).to_csv('done/sample_experiment/valid_samples.csv',index=False)"
   ]
  }
 ],
 "metadata": {
  "kernelspec": {
   "display_name": "base",
   "language": "python",
   "name": "python3"
  },
  "language_info": {
   "codemirror_mode": {
    "name": "ipython",
    "version": 3
   },
   "file_extension": ".py",
   "mimetype": "text/x-python",
   "name": "python",
   "nbconvert_exporter": "python",
   "pygments_lexer": "ipython3",
   "version": "3.10.9"
  }
 },
 "nbformat": 4,
 "nbformat_minor": 2
}
