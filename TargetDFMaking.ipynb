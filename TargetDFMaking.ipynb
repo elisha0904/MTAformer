{
 "cells": [
  {
   "cell_type": "code",
   "execution_count": 1,
   "metadata": {},
   "outputs": [],
   "source": [
    "import pandas as pd"
   ]
  },
  {
   "cell_type": "code",
   "execution_count": null,
   "metadata": {},
   "outputs": [],
   "source": [
    "# reading Preprocessed data \n",
    "\n",
    "# 노출 데이터 \n",
    "exposed = pd.read_csv('preprocessing/exposed_log_0517.csv',index_col = 0)\n",
    "\n",
    "# user segment \n",
    "user = pd.read_csv('preprocessing/user_ppd_0508.csv',index_col = 0)\n",
    "\n",
    "# 구매 데이터 \n",
    "purchase = pd.read_csv('preprocessing/purchase_log_0508.csv',index_col = 0)"
   ]
  },
  {
   "cell_type": "code",
   "execution_count": null,
   "metadata": {},
   "outputs": [],
   "source": [
    "# 데이터 프레임 구분자 생성 \n",
    "exposed['from_exposed'] = 1\n",
    "exposed['from_purchase'] = 0\n",
    "\n",
    "purchase['from_exposed'] = 0\n",
    "purchase['from_purchase'] = 1"
   ]
  },
  {
   "cell_type": "code",
   "execution_count": null,
   "metadata": {},
   "outputs": [],
   "source": [
    "# 합쳐진 dataframe 생성\n",
    "target = pd.concat([exposed, purchase], ignore_index=True).sort_values(by=['user', 'time_stamp'])\n",
    " \n",
    "# now \"from_purchase\" itself represents the label of each sequence \n",
    "target = target.drop(['from_exposed','btag'],axis=1)"
   ]
  },
  {
   "cell_type": "code",
   "execution_count": null,
   "metadata": {},
   "outputs": [],
   "source": [
    "# # Save it \n",
    "# target.to_csv('done/target_whole.csv')"
   ]
  }
 ],
 "metadata": {
  "kernelspec": {
   "display_name": "base",
   "language": "python",
   "name": "python3"
  },
  "language_info": {
   "codemirror_mode": {
    "name": "ipython",
    "version": 3
   },
   "file_extension": ".py",
   "mimetype": "text/x-python",
   "name": "python",
   "nbconvert_exporter": "python",
   "pygments_lexer": "ipython3",
   "version": "3.10.9"
  }
 },
 "nbformat": 4,
 "nbformat_minor": 2
}
